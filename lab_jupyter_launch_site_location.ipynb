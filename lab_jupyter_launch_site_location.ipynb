{
  "metadata": {
    "kernelspec": {
      "name": "python",
      "display_name": "Python (Pyodide)",
      "language": "python"
    },
    "language_info": {
      "codemirror_mode": {
        "name": "python",
        "version": 3
      },
      "file_extension": ".py",
      "mimetype": "text/x-python",
      "name": "python",
      "nbconvert_exporter": "python",
      "pygments_lexer": "ipython3",
      "version": "3.8"
    },
    "prev_pub_hash": "0f9db842b41c859223722809f8be602f5df9334348bd206b11e3af58c30eb345"
  },
  "nbformat_minor": 4,
  "nbformat": 4,
  "cells": [
    {
      "cell_type": "markdown",
      "source": "<p style=\"text-align:center\">\n    <a href=\"https://skills.network/?utm_medium=Exinfluencer&utm_source=Exinfluencer&utm_content=000026UJ&utm_term=10006555&utm_id=NA-SkillsNetwork-Channel-SkillsNetworkCoursesIBMDS0321ENSkillsNetwork26802033-2022-01-01\" target=\"_blank\">\n    <img src=\"https://cf-courses-data.s3.us.cloud-object-storage.appdomain.cloud/assets/logos/SN_web_lightmode.png\" width=\"200\" alt=\"Skills Network Logo\">\n    </a>\n</p>\n",
      "metadata": {}
    },
    {
      "cell_type": "markdown",
      "source": "# **Hands-on Lab: Interactive Visual Analytics with Folium**\n",
      "metadata": {}
    },
    {
      "cell_type": "markdown",
      "source": "Estimated time needed: **40** minutes\n",
      "metadata": {}
    },
    {
      "cell_type": "markdown",
      "source": "The launch success rate may depend on many factors such as payload mass, orbit type, and so on. It may also depend on the location and proximities of a launch site, i.e., the initial position of rocket trajectories. Finding an optimal location for building a launch site certainly involves many factors and hopefully we could discover some of the factors by analyzing the existing launch site locations.\n",
      "metadata": {}
    },
    {
      "cell_type": "markdown",
      "source": "In the previous exploratory data analysis labs, you have visualized the SpaceX launch dataset using `matplotlib` and `seaborn` and discovered some preliminary correlations between the launch site and success rates. In this lab, you will be performing more interactive visual analytics using `Folium`.\n",
      "metadata": {}
    },
    {
      "cell_type": "markdown",
      "source": "## Objectives\n",
      "metadata": {}
    },
    {
      "cell_type": "markdown",
      "source": "This lab contains the following tasks:\n\n*   **TASK 1:** Mark all launch sites on a map\n*   **TASK 2:** Mark the success/failed launches for each site on the map\n*   **TASK 3:** Calculate the distances between a launch site to its proximities\n\nAfter completed the above tasks, you should be able to find some geographical patterns about launch sites.\n",
      "metadata": {}
    },
    {
      "cell_type": "markdown",
      "source": "Let's first import required Python packages for this lab:\n",
      "metadata": {}
    },
    {
      "cell_type": "code",
      "source": "import piplite\nawait piplite.install(['folium'])\nawait piplite.install(['pandas'])",
      "metadata": {
        "trusted": true
      },
      "outputs": [],
      "execution_count": null
    },
    {
      "cell_type": "code",
      "source": "import folium\nimport pandas as pd",
      "metadata": {
        "trusted": true
      },
      "outputs": [],
      "execution_count": null
    },
    {
      "cell_type": "code",
      "source": "# Import folium MarkerCluster plugin\nfrom folium.plugins import MarkerCluster\n# Import folium MousePosition plugin\nfrom folium.plugins import MousePosition\n# Import folium DivIcon plugin\nfrom folium.features import DivIcon",
      "metadata": {
        "trusted": true
      },
      "outputs": [],
      "execution_count": null
    },
    {
      "cell_type": "markdown",
      "source": "If you need to refresh your memory about folium, you may download and refer to this previous folium lab:\n",
      "metadata": {}
    },
    {
      "cell_type": "markdown",
      "source": "[Generating Maps with Python](https://cf-courses-data.s3.us.cloud-object-storage.appdomain.cloud/IBMDeveloperSkillsNetwork-DV0101EN-SkillsNetwork/labs/v4/DV0101EN-Exercise-Generating-Maps-in-Python.ipynb)\n",
      "metadata": {}
    },
    {
      "cell_type": "code",
      "source": "# Download and read the `spacex_launch_geo.csv`\nfrom js import fetch\nimport io\n\nURL = 'https://cf-courses-data.s3.us.cloud-object-storage.appdomain.cloud/IBM-DS0321EN-SkillsNetwork/datasets/spacex_launch_geo.csv'\nresp = await fetch(URL)\nspacex_csv_file = io.BytesIO((await resp.arrayBuffer()).to_py())\nspacex_df=pd.read_csv(spacex_csv_file)",
      "metadata": {
        "trusted": true
      },
      "outputs": [],
      "execution_count": null
    },
    {
      "cell_type": "code",
      "source": "spacex_df. head(5)",
      "metadata": {
        "trusted": true
      },
      "outputs": [],
      "execution_count": null
    },
    {
      "cell_type": "markdown",
      "source": "First, let's try to add each site's location on a map using site's latitude and longitude coordinates\n",
      "metadata": {}
    },
    {
      "cell_type": "code",
      "source": "# Select relevant sub-columns: `Launch Site`, `Lat(Latitude)`, `Long(Longitude)`, `class`\nspacex_df = spacex_df[['Launch Site', 'Lat', 'Long', 'class']]\nlaunch_sites_df = spacex_df.groupby(['Launch Site'], as_index=False).first()\nlaunch_sites_df = launch_sites_df[['Launch Site', 'Lat', 'Long']]\nlaunch_sites_df",
      "metadata": {
        "trusted": true
      },
      "outputs": [],
      "execution_count": null
    },
    {
      "cell_type": "code",
      "source": "## Task 1: Mark all launch sites on a map\n# Define a DataFrame with the coordinates of the launch sites\n# launch_sites = pd.DataFrame({\n#     \"Launch Site\": [\"CCAFS LC-40\", \"VAFB SLC-4E\", \"KSC LC-39A\", \"CCAFS SLC-40\"],\n#     \"Latitude\": [28.562302, 34.632834, 28.573255, 28.563197],\n#     \"Longitude\": [-80.577356, -120.610745, -80.646895, -80.576820]\n# })\n\n# Assuming column names are 'Lat' and 'Long' as indicated in your earlier messages\ncenter_lat = launch_sites_df[\"Lat\"].mean()\ncenter_long = launch_sites_df[\"Long\"].mean()\n\n# Create a folium map centered at the average location of the launch sites\nsite_map = folium.Map(location=[center_lat, center_long], zoom_start=5)\n\n# Add Circles and Markers for each launch site\nfor _, row in launch_sites_df.iterrows():\n    coordinates = [row[\"Lat\"], row[\"Long\"]]\n    \n    # Add a circle to mark the launch site\n    folium.Circle(\n        location=coordinates,\n        radius=1000,  # Radius in meters\n        color=\"#d35400\",  # Orange color for the circle\n        fill=True,\n        fill_opacity=0.5\n    ).add_child(folium.Popup(row[\"Launch Site\"])).add_to(site_map)\n    \n    # Add a marker with the launch site name\n    folium.Marker(\n        location=coordinates,\n        icon=DivIcon(\n            icon_size=(20, 20),\n            icon_anchor=(0, 0),\n            html=f'<div style=\"font-size: 12; color:#d35400;\"><b>{row[\"Launch Site\"]}</b></div>'\n        )\n    ).add_to(site_map)\n\n# Display the map\nsite_map\n\n",
      "metadata": {
        "trusted": true,
        "scrolled": true
      },
      "outputs": [],
      "execution_count": null
    },
    {
      "cell_type": "markdown",
      "source": "The following dataset with the name `spacex_launch_geo.csv` is an augmented dataset with latitude and longitude added for each site.\n",
      "metadata": {}
    },
    {
      "cell_type": "markdown",
      "source": "Now, you can take a look at what are the coordinates for each site.\n",
      "metadata": {}
    },
    {
      "cell_type": "markdown",
      "source": "Above coordinates are just plain numbers that can not give you any intuitive insights about where are those launch sites. If you are very good at geography, you can interpret those numbers directly in your mind. If not, that's fine too. Let's visualize those locations by pinning them on a map.\n",
      "metadata": {}
    },
    {
      "cell_type": "markdown",
      "source": "We first need to create a folium `Map` object, with an initial center location to be NASA Johnson Space Center at Houston, Texas.\n",
      "metadata": {}
    },
    {
      "cell_type": "code",
      "source": "# Start location is NASA Johnson Space Center\nnasa_coordinate = [29.559684888503615, -95.0830971930759]\nsite_map = folium.Map(location=nasa_coordinate, zoom_start=10)",
      "metadata": {
        "trusted": true
      },
      "outputs": [],
      "execution_count": null
    },
    {
      "cell_type": "markdown",
      "source": "We could use `folium.Circle` to add a highlighted circle area with a text label on a specific coordinate. For example,\n",
      "metadata": {}
    },
    {
      "cell_type": "code",
      "source": "# Create a blue circle at NASA Johnson Space Center's coordinate with a popup label showing its name\ncircle = folium.Circle(nasa_coordinate, radius=1000, color='#d35400', fill=True).add_child(folium.Popup('NASA Johnson Space Center'))\n# Create a blue circle at NASA Johnson Space Center's coordinate with a icon showing its name\nmarker = folium.map.Marker(\n    nasa_coordinate,\n    # Create an icon as a text label\n    icon=DivIcon(\n        icon_size=(20,20),\n        icon_anchor=(0,0),\n        html='<div style=\"font-size: 12; color:#d35400;\"><b>%s</b></div>' % 'NASA JSC',\n        )\n    )\nsite_map.add_child(circle)\nsite_map.add_child(marker)",
      "metadata": {
        "trusted": true
      },
      "outputs": [],
      "execution_count": null
    },
    {
      "cell_type": "markdown",
      "source": "and you should find a small yellow circle near the city of Houston and you can zoom-in to see a larger circle.\n",
      "metadata": {}
    },
    {
      "cell_type": "markdown",
      "source": "Now, let's add a circle for each launch site in data frame `launch_sites`\n",
      "metadata": {}
    },
    {
      "cell_type": "markdown",
      "source": "*TODO:*  Create and add `folium.Circle` and `folium.Marker` for each launch site on the site map\n",
      "metadata": {}
    },
    {
      "cell_type": "markdown",
      "source": "An example of folium.Circle:\n",
      "metadata": {}
    },
    {
      "cell_type": "markdown",
      "source": "`folium.Circle(coordinate, radius=1000, color='#000000', fill=True).add_child(folium.Popup(...))`\n",
      "metadata": {}
    },
    {
      "cell_type": "markdown",
      "source": "An example of folium.Marker:\n",
      "metadata": {}
    },
    {
      "cell_type": "markdown",
      "source": "`folium.map.Marker(coordinate, icon=DivIcon(icon_size=(20,20),icon_anchor=(0,0), html='<div style=\"font-size: 12; color:#d35400;\"><b>%s</b></div>' % 'label', ))`\n",
      "metadata": {}
    },
    {
      "cell_type": "code",
      "source": "# Initial the map\nsite_map = folium.Map(location=nasa_coordinate, zoom_start=5)\n# For each launch site, add a Circle object based on its coordinate (Lat, Long) values. In addition, add Launch site name as a popup label\n# Initialize the map with NASA Johnson Space Center coordinates\nsite_map = folium.Map(location=nasa_coordinate, zoom_start=5)\n\n# Loop through each launch site and add a Circle and Marker\nfor _, row in launch_sites_df.iterrows():\n    # Coordinates of the launch site\n    coordinates = [row['Lat'], row['Long']]\n    \n    # Add a circle at the launch site\n    folium.Circle(\n        location=coordinates,\n        radius=1000,  # Adjust radius as needed\n        color='#d35400',\n        fill=True,\n        fill_opacity=0.5\n    ).add_child(folium.Popup(row['Launch Site'])).add_to(site_map)\n    \n    # Add a marker with the launch site name\n    folium.map.Marker(\n        location=coordinates,\n        icon=DivIcon(\n            icon_size=(20, 20),\n            icon_anchor=(0, 0),\n            html=f'<div style=\"font-size: 12; color:#d35400;\"><b>{row[\"Launch Site\"]}</b></div>'\n        )\n    ).add_to(site_map)\n\n# Display the map\nsite_map\n",
      "metadata": {
        "trusted": true
      },
      "outputs": [],
      "execution_count": null
    },
    {
      "cell_type": "markdown",
      "source": "The generated map with marked launch sites should look similar to the following:\n",
      "metadata": {}
    },
    {
      "cell_type": "markdown",
      "source": "<center>\n    <img src=\"https://cf-courses-data.s3.us.cloud-object-storage.appdomain.cloud/IBM-DS0321EN-SkillsNetwork/labs/module_3/images/launch_site_markers.png\">\n</center>\n",
      "metadata": {}
    },
    {
      "cell_type": "markdown",
      "source": "Now, you can explore the map by zoom-in/out the marked areas\n, and try to answer the following questions:\n\n*   Are all launch sites in proximity to the Equator line?\n*   Are all launch sites in very close proximity to the coast?\n\nAlso please try to explain your findings.\n",
      "metadata": {}
    },
    {
      "cell_type": "code",
      "source": "# Task 2: Mark the success/failed launches for each site on the map\n# Create a map centered around the launch sites\nsite_map = folium.Map(location=nasa_coordinate, zoom_start=5)\n\n# For each row in spacex_df dataframe, add a marker with success or failure color\nmarker_cluster = MarkerCluster()\n\n# Iterate through each launch record in spacex_df\nfor index, record in spacex_df.iterrows():\n    lat, lon = record['Lat'], record['Long']\n    launch_site = record['Launch Site']\n    result = record['class']  # 1 for success, 0 for failure\n    marker_color = 'green' if result == 1 else 'red'\n    \n    # Create a marker and add it to the marker cluster\n    marker = folium.Marker(\n        [lat, lon],\n        icon=folium.Icon(color=marker_color)\n    )\n    marker_cluster.add_child(marker)\n\n# Add marker cluster to the map\nsite_map.add_child(marker_cluster)\nsite_map\n\n",
      "metadata": {
        "trusted": true
      },
      "outputs": [],
      "execution_count": null
    },
    {
      "cell_type": "markdown",
      "source": "Next, let's try to enhance the map by adding the launch outcomes for each site, and see which sites have high success rates.\nRecall that data frame spacex_df has detailed launch records, and the `class` column indicates if this launch was successful or not\n",
      "metadata": {}
    },
    {
      "cell_type": "code",
      "source": "spacex_df.tail(10)",
      "metadata": {
        "trusted": true
      },
      "outputs": [],
      "execution_count": null
    },
    {
      "cell_type": "markdown",
      "source": "Next, let's create markers for all launch records.\nIf a launch was successful `(class=1)`, then we use a green marker and if a launch was failed, we use a red marker `(class=0)`\n",
      "metadata": {}
    },
    {
      "cell_type": "markdown",
      "source": "Note that a launch only happens in one of the four launch sites, which means many launch records will have the exact same coordinate. Marker clusters can be a good way to simplify a map containing many markers having the same coordinate.\n",
      "metadata": {}
    },
    {
      "cell_type": "markdown",
      "source": "Let's first create a `MarkerCluster` object\n",
      "metadata": {}
    },
    {
      "cell_type": "code",
      "source": "marker_cluster = MarkerCluster()\n",
      "metadata": {
        "trusted": true
      },
      "outputs": [],
      "execution_count": null
    },
    {
      "cell_type": "markdown",
      "source": "*TODO:* Create a new column in `spacex_df` dataframe called `marker_color` to store the marker colors based on the `class` value\n",
      "metadata": {}
    },
    {
      "cell_type": "code",
      "source": "\n# Apply a function to check the value of `class` column\n# If class=1, marker_color value will be green\n# If class=0, marker_color value will be red\n\n# Create a new column 'marker_color' based on the 'class' column\nspacex_df['marker_color'] = spacex_df['class'].apply(lambda x: 'green' if x == 1 else 'red')\n\n# Initialize a map centered at NASA Johnson Space Center\nsite_map = folium.Map(location=nasa_coordinate, zoom_start=5)\n\n# Create a MarkerCluster object\nmarker_cluster = MarkerCluster().add_to(site_map)\n\n# Loop through the DataFrame and add markers to the cluster\nfor _, row in spacex_df.iterrows():\n    folium.Marker(\n        location=[row['Lat'], row['Long']],\n        popup=f\"Launch Site: {row['Launch Site']}<br>Outcome: {'Success' if row['class'] == 1 else 'Failure'}\",\n        icon=folium.Icon(color=row['marker_color'], icon='rocket')\n    ).add_to(marker_cluster)\n\n# Display the map\nsite_map\n",
      "metadata": {
        "trusted": true
      },
      "outputs": [],
      "execution_count": null
    },
    {
      "cell_type": "markdown",
      "source": "*TODO:* For each launch result in `spacex_df` data frame, add a `folium.Marker` to `marker_cluster`\n",
      "metadata": {}
    },
    {
      "cell_type": "code",
      "source": "# Add marker_cluster to current site_map\n# site_map.add_child(marker_cluster)\n\n# # for each row in spacex_df data frame\n# # create a Marker object with its coordinate\n# # and customize the Marker's icon property to indicate if this launch was successed or failed, \n# # e.g., icon=folium.Icon(color='white', icon_color=row['marker_color']\n# for index, record in spacex_df.iterrows():\n#     # TODO: Create and add a Marker cluster to the site map\n#     # marker = folium.Marker(...)\n#     marker_cluster.add_child(marker)\n\n# site_map\n\n\n# Add marker_cluster to the current site_map\nsite_map.add_child(marker_cluster)\n\n# Loop through each record in spacex_df\nfor index, record in spacex_df.iterrows():\n    # Create a Marker object with its coordinate and customize the icon's color based on the launch result\n    marker = folium.Marker(\n        location=[record['Lat'], record['Long']],\n        popup=f\"Launch Site: {record['Launch Site']}<br>Outcome: {'Success' if record['class'] == 1 else 'Failure'}\",\n        icon=folium.Icon(color=record['marker_color'], icon='rocket')\n    )\n    # Add the marker to the marker_cluster\n    marker_cluster.add_child(marker)\n\n# Display the map\nsite_map\n",
      "metadata": {
        "trusted": true
      },
      "outputs": [],
      "execution_count": null
    },
    {
      "cell_type": "markdown",
      "source": "Your updated map may look like the following screenshots:\n",
      "metadata": {}
    },
    {
      "cell_type": "markdown",
      "source": "<center>\n    <img src=\"https://cf-courses-data.s3.us.cloud-object-storage.appdomain.cloud/IBM-DS0321EN-SkillsNetwork/labs/module_3/images/launch_site_marker_cluster.png\">\n</center>\n",
      "metadata": {}
    },
    {
      "cell_type": "markdown",
      "source": "<center>\n    <img src=\"https://cf-courses-data.s3.us.cloud-object-storage.appdomain.cloud/IBM-DS0321EN-SkillsNetwork/labs/module_3/images/launch_site_marker_cluster_zoomed.png\">\n</center>\n",
      "metadata": {}
    },
    {
      "cell_type": "markdown",
      "source": "From the color-labeled markers in marker clusters, you should be able to easily identify which launch sites have relatively high success rates.\n",
      "metadata": {}
    },
    {
      "cell_type": "code",
      "source": "# TASK 3: Calculate the distances between a launch site to its proximities\nimport math\n\n# Function to calculate Haversine distance\ndef calculate_distance(lat1, lon1, lat2, lon2):\n    R = 6371  # Radius of Earth in kilometers\n    # Convert degrees to radians\n    lat1, lon1, lat2, lon2 = map(math.radians, [lat1, lon1, lat2, lon2])\n    # Haversine formula\n    dlat = lat2 - lat1\n    dlon = lon2 - lon1\n    a = math.sin(dlat / 2)**2 + math.cos(lat1) * math.cos(lat2) * math.sin(dlon / 2)**2\n    c = 2 * math.asin(math.sqrt(a))\n    return R * c\n\n# Example proximity coordinates (replace with actual data)\nproximities = pd.DataFrame({\n    'Proximity': ['Road 1', 'City A', 'Water Body'],\n    'Lat': [28.5, 28.6, 28.4],\n    'Long': [-80.6, -80.7, -80.5]\n})\n\n# Calculate distances from each launch site to each proximity\ndistances = []\nfor _, site in launch_sites_df.iterrows():\n    for _, proximity in proximities.iterrows():\n        distance = calculate_distance(site['Lat'], site['Long'], proximity['Lat'], proximity['Long'])\n        distances.append({\n            'Launch Site': site['Launch Site'],\n            'Proximity': proximity['Proximity'],\n            'Distance (km)': distance\n        })\n\n# Convert results to a DataFrame\ndistances_df = pd.DataFrame(distances)\nprint(distances_df)\n",
      "metadata": {
        "trusted": true
      },
      "outputs": [],
      "execution_count": null
    },
    {
      "cell_type": "markdown",
      "source": "Next, we need to explore and analyze the proximities of launch sites.\n",
      "metadata": {}
    },
    {
      "cell_type": "markdown",
      "source": "Let's first add a `MousePosition` on the map to get coordinate for a mouse over a point on the map. As such, while you are exploring the map, you can easily find the coordinates of any points of interests (such as railway)\n",
      "metadata": {}
    },
    {
      "cell_type": "code",
      "source": "# Add Mouse Position to get the coordinate (Lat, Long) for a mouse over on the map\nformatter = \"function(num) {return L.Util.formatNum(num, 5);};\"\nmouse_position = MousePosition(\n    position='topright',\n    separator=' Long: ',\n    empty_string='NaN',\n    lng_first=False,\n    num_digits=20,\n    prefix='Lat:',\n    lat_formatter=formatter,\n    lng_formatter=formatter,\n)\n\nsite_map.add_child(mouse_position)\nsite_map",
      "metadata": {
        "trusted": true
      },
      "outputs": [],
      "execution_count": null
    },
    {
      "cell_type": "markdown",
      "source": "Now zoom in to a launch site and explore its proximity to see if you can easily find any railway, highway, coastline, etc. Move your mouse to these points and mark down their coordinates (shown on the top-left) in order to the distance to the launch site.\n",
      "metadata": {}
    },
    {
      "cell_type": "markdown",
      "source": "Now zoom in to a launch site and explore its proximity to see if you can easily find any railway, highway, coastline, etc. Move your mouse to these points and mark down their coordinates (shown on the top-left) in order to the distance to the launch site.\n",
      "metadata": {}
    },
    {
      "cell_type": "code",
      "source": "from math import sin, cos, sqrt, atan2, radians\n\ndef calculate_distance(lat1, lon1, lat2, lon2):\n    # approximate radius of earth in km\n    R = 6373.0\n\n    lat1 = radians(lat1)\n    lon1 = radians(lon1)\n    lat2 = radians(lat2)\n    lon2 = radians(lon2)\n\n    dlon = lon2 - lon1\n    dlat = lat2 - lat1\n\n    a = sin(dlat / 2)**2 + cos(lat1) * cos(lat2) * sin(dlon / 2)**2\n    c = 2 * atan2(sqrt(a), sqrt(1 - a))\n\n    distance = R * c\n    return distance",
      "metadata": {
        "trusted": true
      },
      "outputs": [],
      "execution_count": null
    },
    {
      "cell_type": "markdown",
      "source": "*TODO:* Mark down a point on the closest coastline using MousePosition and calculate the distance between the coastline point and the launch site.\n",
      "metadata": {}
    },
    {
      "cell_type": "code",
      "source": "# find coordinate of the closet coastline\n# e.g.,: Lat: 28.56367  Lon: -80.57163\n# distance_coastline = calculate_distance(launch_site_lat, launch_site_lon, coastline_lat, coastline_lon)\n# Add MousePosition plugin to the map\nformatter = \"function(num) {return L.Util.formatNum(num, 5);};\"\nmouse_position = MousePosition(\n    position='topright',\n    separator=' Long: ',\n    empty_string='NaN',\n    lng_first=False,\n    num_digits=20,\n    prefix='Lat:',\n    lat_formatter=formatter,\n    lng_formatter=formatter,\n)\n\n# Add MousePosition to the site_map\nsite_map.add_child(mouse_position)\n\n# Display the map to explore\nsite_map\n",
      "metadata": {
        "trusted": true
      },
      "outputs": [],
      "execution_count": null
    },
    {
      "cell_type": "code",
      "source": "# Create and add a folium.Marker on your selected closest coastline point on the map\n# Display the distance between coastline point and launch site using the icon property \n# for example\n# distance_marker = folium.Marker(\n#    coordinate,\n#    icon=DivIcon(\n#        icon_size=(20,20),\n#        icon_anchor=(0,0),\n#        html='<div style=\"font-size: 12; color:#d35400;\"><b>%s</b></div>' % \"{:10.2f} KM\".format(distance),\n#        )\n#    )\n\n# Define coordinates for the launch site and the closest coastline\nlaunch_site_lat, launch_site_lon = 28.573255, -80.646895  # Example: Kennedy Space Center\ncoastline_lat, coastline_lon = 28.56367, -80.57163        # Example: Closest coastline point\n\n# Calculate the distance between the launch site and the coastline\ndistance_coastline = calculate_distance(launch_site_lat, launch_site_lon, coastline_lat, coastline_lon)\n\n# Create a folium.Marker for the closest coastline point\n# Example: Calculate distance from each launch site to a given coastline\ncoastline_coord = [28.56367, -80.57163]  # Closest coastline point\n\n# Add distances to each launch site\ndistances = []\nfor index, record in spacex_df.iterrows():\n    lat, lon = record['Lat'], record['Long']\n    distance = calculate_distance(lat, lon, coastline_coord[0], coastline_coord[1])\n    distances.append(distance)\n\n# Add distances as a new column to the DataFrame\nspacex_df['distance_to_coastline'] = distances\n\n\n# Add the marker to the map\nsite_map.add_child(distance_marker)\n\n# Display the updated map\nsite_map\n",
      "metadata": {
        "trusted": true
      },
      "outputs": [],
      "execution_count": null
    },
    {
      "cell_type": "markdown",
      "source": "*TODO:* Draw a `PolyLine` between a launch site to the selected coastline point\n",
      "metadata": {}
    },
    {
      "cell_type": "code",
      "source": "# Create a `folium.PolyLine` object using the coastline coordinates and launch site coordinate\n# lines=folium.PolyLine(locations=coordinates, weight=1)\n# site_map.add_child(lines)\n\n# Define coastline coordinates\ncoastline_coord = [28.56367, -80.57163]  # Example: Closest coastline point\n\n# Draw PolyLines for each launch site\nfor index, record in spacex_df.iterrows():\n    launch_site_coord = [record['Lat'], record['Long']]\n    \n    # Create PolyLine object connecting launch site and coastline\n    polyline = folium.PolyLine(\n        locations=[launch_site_coord, coastline_coord],\n        weight=2,\n        color='blue'\n    )\n    \n    # Add PolyLine to the map\n    site_map.add_child(polyline)\n\n# Display the updated map with PolyLines\nsite_map\n\n",
      "metadata": {
        "trusted": true
      },
      "outputs": [],
      "execution_count": null
    },
    {
      "cell_type": "markdown",
      "source": "Your updated map with distance line should look like the following screenshot:\n",
      "metadata": {}
    },
    {
      "cell_type": "markdown",
      "source": "<center>\n    <img src=\"https://cf-courses-data.s3.us.cloud-object-storage.appdomain.cloud/IBM-DS0321EN-SkillsNetwork/labs/module_3/images/launch_site_marker_distance.png\">\n</center>\n",
      "metadata": {}
    },
    {
      "cell_type": "markdown",
      "source": "*TODO:* Similarly, you can draw a line betwee a launch site to its closest city, railway, highway, etc. You need to use `MousePosition` to find the their coordinates on the map first\n",
      "metadata": {}
    },
    {
      "cell_type": "markdown",
      "source": "A railway map symbol may look like this:\n",
      "metadata": {}
    },
    {
      "cell_type": "markdown",
      "source": "<center>\n    <img src=\"https://cf-courses-data.s3.us.cloud-object-storage.appdomain.cloud/IBM-DS0321EN-SkillsNetwork/labs/module_3/images/railway.png\">\n</center>\n",
      "metadata": {}
    },
    {
      "cell_type": "markdown",
      "source": "A highway map symbol may look like this:\n",
      "metadata": {}
    },
    {
      "cell_type": "markdown",
      "source": "<center>\n    <img src=\"https://cf-courses-data.s3.us.cloud-object-storage.appdomain.cloud/IBM-DS0321EN-SkillsNetwork/labs/module_3/images/highway.png\">\n</center>\n",
      "metadata": {}
    },
    {
      "cell_type": "markdown",
      "source": "A city map symbol may look like this:\n",
      "metadata": {}
    },
    {
      "cell_type": "markdown",
      "source": "<center>\n    <img src=\"https://cf-courses-data.s3.us.cloud-object-storage.appdomain.cloud/IBM-DS0321EN-SkillsNetwork/labs/module_3/images/city.png\">\n</center>\n",
      "metadata": {}
    },
    {
      "cell_type": "code",
      "source": "# Create a marker with distance to a closest city, railway, highway, etc.\n# Draw a line between the marker to the launch site\n# Define the coordinates of the launch site and points of interest\nlaunch_site_coord = [28.563197, -80.576820]  # Example: Launch site (CCAFS SLC-40)\nclosest_city_coord = [28.3922, -80.6077]     # Example: Closest city\nclosest_railway_coord = [28.5721, -80.5853]  # Example: Closest railway\nclosest_highway_coord = [28.5745, -80.6558]  # Example: Closest highway\n\n# Calculate distances\ndistance_to_city = calculate_distance(\n    launch_site_coord[0], launch_site_coord[1], closest_city_coord[0], closest_city_coord[1])\ndistance_to_railway = calculate_distance(\n    launch_site_coord[0], launch_site_coord[1], closest_railway_coord[0], closest_railway_coord[1])\ndistance_to_highway = calculate_distance(\n    launch_site_coord[0], launch_site_coord[1], closest_highway_coord[0], closest_highway_coord[1])\n\n# Add markers for the closest city, railway, and highway\ncity_marker = folium.Marker(\n    closest_city_coord,\n    icon=DivIcon(\n        icon_size=(20, 20),\n        icon_anchor=(0, 0),\n        html=f'<div style=\"font-size: 12; color:#d35400;\"><b>{distance_to_city:.2f} KM</b></div>'\n    )\n)\n\nrailway_marker = folium.Marker(\n    closest_railway_coord,\n    icon=DivIcon(\n        icon_size=(20, 20),\n        icon_anchor=(0, 0),\n        html=f'<div style=\"font-size: 12; color:#d35400;\"><b>{distance_to_railway:.2f} KM</b></div>'\n    )\n)\n\nhighway_marker = folium.Marker(\n    closest_highway_coord,\n    icon=DivIcon(\n        icon_size=(20, 20),\n        icon_anchor=(0, 0),\n        html=f'<div style=\"font-size: 12; color:#d35400;\"><b>{distance_to_highway:.2f} KM</b></div>'\n    )\n)\n\n# Add PolyLines connecting the launch site to each point of interest\ncity_line = folium.PolyLine([launch_site_coord, closest_city_coord], color='blue', weight=2)\nrailway_line = folium.PolyLine([launch_site_coord, closest_railway_coord], color='green', weight=2)\nhighway_line = folium.PolyLine([launch_site_coord, closest_highway_coord], color='red', weight=2)\n\n# Add markers and lines to the map\nsite_map.add_child(city_marker)\nsite_map.add_child(railway_marker)\nsite_map.add_child(highway_marker)\n\nsite_map.add_child(city_line)\nsite_map.add_child(railway_line)\nsite_map.add_child(highway_line)\n\n# Display the map\nsite_map\n",
      "metadata": {
        "trusted": true
      },
      "outputs": [],
      "execution_count": null
    },
    {
      "cell_type": "code",
      "source": "import pandas as pd\nimport matplotlib.pyplot as plt\n\n\n\n# Filter successful launches\nsuccess_counts = spacex_df[spacex_df['class'] == 1]['Launch Site'].value_counts()\n\n# Plot the pie chart\nplt.figure(figsize=(8, 8))\nsuccess_counts.plot.pie(\n    autopct='%1.1f%%', \n    startangle=140, \n    colors=plt.cm.tab20.colors, \n    ylabel=''  # Remove default ylabel for clean appearance\n)\nplt.title('Launch Success Count for All Sites', fontsize=14)\nplt.tight_layout()\nplt.show()\n",
      "metadata": {
        "trusted": true
      },
      "outputs": [],
      "execution_count": null
    },
    {
      "cell_type": "code",
      "source": "import pandas as pd\nimport matplotlib.pyplot as plt\n\n\n\n# Calculate success ratio for each launch site\nlaunch_site_stats = spacex_df.groupby('Launch Site')['class'].agg(['sum', 'count'])\nlaunch_site_stats['success_ratio'] = launch_site_stats['sum'] / launch_site_stats['count']\n\n# Find the site with the highest success ratio\nhighest_ratio_site = launch_site_stats['success_ratio'].idxmax()\n\n# Filter data for the selected site\nsite_data = spacex_df[spacex_df['Launch Site'] == highest_ratio_site]\nsuccess_counts = site_data['class'].value_counts()  # 1 for success, 0 for failure\n\n# Plot the pie chart\nplt.figure(figsize=(8, 8))\nsuccess_counts.plot.pie(\n    labels=['Success', 'Failure'],\n    autopct='%1.1f%%', \n    startangle=140, \n    colors=['green', 'red'], \n    ylabel=''  # Remove default ylabel for clean appearance\n)\nplt.title(f'Launch Outcomes at {highest_ratio_site}', fontsize=14)\nplt.tight_layout()\nplt.show()\n",
      "metadata": {
        "trusted": true
      },
      "outputs": [],
      "execution_count": null
    },
    {
      "cell_type": "code",
      "source": "import pandas as pd\nimport plotly.express as px\n\n\n\n# Create a scatter plot using Plotly\nfig = px.scatter(\n    spacex_df,\n    x=\"Payload Mass (kg)\",\n    y=\"class\",\n    color=\"Launch Site\",\n    title=\"Payload vs. Launch Outcome\",\n    labels={\"class\": \"Launch Outcome (1 = Success, 0 = Failure)\"},\n    hover_data=[\"Booster Version\"]\n)\n\n# Add a range slider for payload mass selection\nfig.update_layout(\n    xaxis=dict(\n        title=\"Payload Mass (kg)\",\n        rangeselector=dict(\n            buttons=[\n                dict(step=\"all\"),\n                dict(count=1000, label=\"1k\", step=\"relative\", stepmode=\"backward\"),\n                dict(count=5000, label=\"5k\", step=\"relative\", stepmode=\"backward\"),\n                dict(count=10000, label=\"10k\", step=\"relative\", stepmode=\"backward\")\n            ]\n        ),\n        type=\"linear\"\n    )\n)\n\nfig.show()\n",
      "metadata": {
        "trusted": true
      },
      "outputs": [],
      "execution_count": null
    },
    {
      "cell_type": "code",
      "source": "",
      "metadata": {
        "trusted": true
      },
      "outputs": [],
      "execution_count": null
    },
    {
      "cell_type": "code",
      "source": "",
      "metadata": {
        "trusted": true
      },
      "outputs": [],
      "execution_count": null
    },
    {
      "cell_type": "markdown",
      "source": "After you plot distance lines to the proximities, you can answer the following questions easily:\n\n*   Are launch sites in close proximity to railways?\n*   Are launch sites in close proximity to highways?\n*   Are launch sites in close proximity to coastline?\n*   Do launch sites keep certain distance away from cities?\n\nAlso please try to explain your findings.\n",
      "metadata": {}
    },
    {
      "cell_type": "markdown",
      "source": "# Next Steps:\n\nNow you have discovered many interesting insights related to the launch sites' location using folium, in a very interactive way. Next, you will need to build a dashboard using Ploty Dash on detailed launch records.\n",
      "metadata": {}
    },
    {
      "cell_type": "markdown",
      "source": "## Authors\n",
      "metadata": {}
    },
    {
      "cell_type": "markdown",
      "source": "[Pratiksha Verma](https://www.linkedin.com/in/pratiksha-verma-6487561b1/)\n",
      "metadata": {}
    },
    {
      "cell_type": "markdown",
      "source": "<!--## Change Log--!>\n",
      "metadata": {}
    },
    {
      "cell_type": "markdown",
      "source": "<!--| Date (YYYY-MM-DD) | Version | Changed By      | Change Description      |\n| ----------------- | ------- | -------------   | ----------------------- |\n| 2022-11-09        | 1.0     | Pratiksha Verma | Converted initial version to Jupyterlite|--!>\n",
      "metadata": {}
    },
    {
      "cell_type": "markdown",
      "source": "### <h3 align=\"center\"> IBM Corporation 2022. All rights reserved. <h3/>\n",
      "metadata": {}
    }
  ]
}